{
  "cells": [
    {
      "cell_type": "markdown",
      "metadata": {
        "id": "view-in-github"
      },
      "source": [
        "[![Open In Colab](https://colab.research.google.com/assets/colab-badge.svg)](https://colab.research.google.com/github/camenduru/video-dubbing-colab/blob/main/video_dubbing_colab.ipynb)"
      ]
    },
    {
      "cell_type": "code",
      "execution_count": null,
      "metadata": {
        "id": "VjYy0F2gZIPR"
      },
      "outputs": [],
      "source": [
        "%cd /content\n",
        "!git clone -b dev https://github.com/camenduru/video-dubbing-hf\n",
        "\n",
        "!apt -y install -qq aria2\n",
        "!aria2c --console-log-level=error -c -x 16 -s 16 -k 1M https://huggingface.co/camenduru/Wav2Lip/resolve/main/checkpoints/lipsync_expert.pth -d /content/video-dubbing-hf/Wav2Lip/checkpoints -o lipsync_expert.pth\n",
        "!aria2c --console-log-level=error -c -x 16 -s 16 -k 1M https://huggingface.co/camenduru/Wav2Lip/resolve/main/checkpoints/visual_quality_disc.pth -d /content/video-dubbing-hf/Wav2Lip/checkpoints -o visual_quality_disc.pth\n",
        "!aria2c --console-log-level=error -c -x 16 -s 16 -k 1M https://huggingface.co/camenduru/Wav2Lip/resolve/main/checkpoints/wav2lip.pth -d /content/video-dubbing-hf/Wav2Lip/checkpoints -o wav2lip.pth\n",
        "!aria2c --console-log-level=error -c -x 16 -s 16 -k 1M https://huggingface.co/camenduru/Wav2Lip/resolve/main/checkpoints/wav2lip_gan.pth -d /content/video-dubbing-hf/Wav2Lip/checkpoints -o wav2lip_gan.pth\n",
        "!aria2c --console-log-level=error -c -x 16 -s 16 -k 1M https://huggingface.co/camenduru/Wav2Lip/resolve/main/checkpoints/s3fd-619a316812.pth -d /content/video-dubbing-hf/Wav2Lip/checkpoints -o s3fd-619a316812.pth\n",
        "!aria2c --console-log-level=error -c -x 16 -s 16 -k 1M https://huggingface.co/camenduru/Wav2Lip/resolve/main/face_detection/detection/sfd/s3fd.pth -d /content/video-dubbing-hf/Wav2Lip/face_detection/detection/sfd -o s3fd.pth\n",
        "\n",
        "\n",
        "!pip install -q gputil faster-whisper tiktoken ffmpeg-python anyascii pysbd umap-learn jiwer googletrans==4.0.0-rc1 pydub mediapipe gradio openai-whisper librosa==0.8.0\n",
        "!pip install -q TTS\n",
        "%cd /content/video-dubbing-hf\n",
        "!python app.py"
      ]
    }
  ],
  "metadata": {
    "accelerator": "GPU",
    "colab": {
      "gpuType": "T4",
      "provenance": []
    },
    "kernelspec": {
      "display_name": "Python 3",
      "name": "python3"
    },
    "language_info": {
      "name": "python"
    }
  },
  "nbformat": 4,
  "nbformat_minor": 0
}
